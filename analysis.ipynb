{
 "metadata": {
  "language_info": {
   "codemirror_mode": {
    "name": "ipython",
    "version": 3
   },
   "file_extension": ".py",
   "mimetype": "text/x-python",
   "name": "python",
   "nbconvert_exporter": "python",
   "pygments_lexer": "ipython3",
   "version": "3.8.2-final"
  },
  "orig_nbformat": 2,
  "kernelspec": {
   "name": "python3",
   "display_name": "Python 3",
   "language": "python"
  }
 },
 "nbformat": 4,
 "nbformat_minor": 2,
 "cells": [
  {
   "cell_type": "code",
   "execution_count": 55,
   "metadata": {},
   "outputs": [],
   "source": [
    "from scapy.all import Ether, ARP\n",
    "from p4.v1 import p4runtime_pb2\n",
    "import google.protobuf.text_format as tf\n",
    "import glob\n",
    "import sys"
   ]
  },
  {
   "cell_type": "code",
   "execution_count": 56,
   "metadata": {
    "tags": []
   },
   "outputs": [
    {
     "output_type": "stream",
     "name": "stdout",
     "text": [
      "['grpc___10_93_1_252_9339_device_id_1_8907898971417070689.log']\nParsing grpc___10_93_1_252_9339_device_id_1_8907898971417070689.log\n"
     ]
    }
   ],
   "source": [
    "log_files = glob.glob(\"*.log\")\n",
    "print(log_files)\n",
    "if len(log_files) == 0:\n",
    "    print(\"can not find any *.log file\")\n",
    "    sys.exit(1)\n",
    "log_file = log_files[0]\n",
    "print(f\"Parsing {log_file}\")\n",
    "\n",
    "packet_msgs = []\n",
    "with open(log_file) as logf:\n",
    "    pkt_msg = \"\"\n",
    "    indent = 0\n",
    "    msg = None\n",
    "    for line in logf:\n",
    "        if \"StreamChannel >> OUTBOUND\" in line:\n",
    "            msg = \"out\"\n",
    "            continue\n",
    "        elif \"StreamChannel << INBOUND\" in line:\n",
    "            msg = \"in\"\n",
    "            continue\n",
    "        if msg:\n",
    "            if \"{\\n\" in line:\n",
    "                indent += 1\n",
    "                pkt_msg += line\n",
    "                continue\n",
    "            elif \"}\\n\" in line:\n",
    "                pkt_msg += line\n",
    "                indent -= 1\n",
    "                if indent == 0:\n",
    "                    packet_msgs.append((msg, pkt_msg))\n",
    "                    msg = None\n",
    "                    pkt_msg = \"\"\n",
    "            elif indent != 0:\n",
    "                pkt_msg += line\n"
   ]
  },
  {
   "cell_type": "code",
   "execution_count": 59,
   "metadata": {
    "tags": []
   },
   "outputs": [
    {
     "output_type": "stream",
     "name": "stdout",
     "text": [
      "Results are stored in the result.txt\n"
     ]
    }
   ],
   "source": [
    "\n",
    "result = \"\"\n",
    "for pkt_msg in packet_msgs:\n",
    "    if pkt_msg[0] == \"in\" and \"packet {\" in pkt_msg[1]:\n",
    "        p4_pkt_msg = p4runtime_pb2.StreamMessageResponse()\n",
    "    elif pkt_msg[0] == \"out\" and \"packet {\" in pkt_msg[1]:\n",
    "        p4_pkt_msg = p4runtime_pb2.StreamMessageRequest()\n",
    "    tf.Merge(pkt_msg[1], p4_pkt_msg)\n",
    "    in_port = None\n",
    "    for md in p4_pkt_msg.packet.metadata:\n",
    "        if md.metadata_id == 1:\n",
    "            in_port = int.from_bytes(md.value, 'big')\n",
    "    pkt = Ether(p4_pkt_msg.packet.payload)\n",
    "    if ARP not in pkt:\n",
    "        continue\n",
    "    result += f\"Direction: {pkt_msg[0].upper()}, port: {in_port}\\n\"\n",
    "    result += f\"{pkt[Ether].src} -> {pkt[Ether].dst} \"\n",
    "    result += pkt[ARP].summary()\n",
    "    result += \"\\n\"\n",
    " \n",
    "with open(\"result.txt\", \"w\") as f:\n",
    "    f.write(result)\n",
    "\n",
    "print(\"Results are stored in the result.txt\")\n"
   ]
  },
  {
   "cell_type": "code",
   "execution_count": null,
   "metadata": {},
   "outputs": [],
   "source": []
  }
 ]
}